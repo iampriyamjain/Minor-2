{
 "cells": [
  {
   "cell_type": "code",
   "execution_count": 2,
   "metadata": {},
   "outputs": [],
   "source": [
    "import numpy as np \n",
    "import pandas as pd \n",
    "import librosa\n",
    "import librosa.display\n",
    "import matplotlib.pyplot as plt\n",
    "import plotly.graph_objects as go\n",
    "import plotly.express as px\n",
    "import plotly.figure_factory as ff\n",
    "import seaborn as sns\n",
    "import IPython\n",
    "import tensorflow.keras.layers as L\n",
    "import tensorflow as tf\n",
    "from tensorflow.keras.callbacks import EarlyStopping, ReduceLROnPlateau\n",
    "from sklearn.model_selection import train_test_split\n",
    "from sklearn.metrics import confusion_matrix\n",
    "from sklearn.metrics import classification_report\n",
    "from sklearn.preprocessing import LabelEncoder,StandardScaler\n",
    "import re\n",
    "import itertools\n",
    "%matplotlib inline\n",
    "import warnings\n",
    "warnings.filterwarnings('ignore')\n",
    "\n",
    "import os\n"
   ]
  },
  {
   "cell_type": "code",
   "execution_count": 3,
   "metadata": {},
   "outputs": [
    {
     "name": "stderr",
     "output_type": "stream",
     "text": [
      "WARNING:absl:Compiled the loaded model, but the compiled metrics have yet to be built. `model.compile_metrics` will be empty until you train or evaluate the model.\n"
     ]
    }
   ],
   "source": [
    "model_new=tf.keras.models.load_model(\"C:/Users/priya/Downloads/model_name.h5\")"
   ]
  },
  {
   "cell_type": "code",
   "execution_count": 4,
   "metadata": {},
   "outputs": [],
   "source": [
    "def zcr(data,frame_length,hop_length):\n",
    "    zcr=librosa.feature.zero_crossing_rate(data,frame_length=frame_length,hop_length=hop_length)\n",
    "    return np.squeeze(zcr)\n",
    "\n",
    "def rmse(data, frame_length=2048, hop_length=512):\n",
    "    rmse = librosa.feature.rms(y=data, frame_length=frame_length, hop_length=hop_length)\n",
    "    return np.squeeze(rmse)\n",
    "\n",
    "def mfcc(data, sr, frame_length=2048, hop_length=512, flatten=True):\n",
    "    mfcc_result = librosa.feature.mfcc(y=data, sr=sr)\n",
    "    return np.squeeze(mfcc_result.T) if not flatten else np.ravel(mfcc_result.T)\n",
    "\n",
    "def mfcc1(data, sr, frame_length=2048, hop_length=512):\n",
    "    mfcc_result = librosa.feature.mfcc(y=data, sr=sr, n_mfcc=13, hop_length=hop_length)\n",
    "    return mfcc_result.T\n",
    "\n",
    "def extract_features(data,sr,frame_length=2048,hop_length=512):\n",
    "    result=np.array([])\n",
    "\n",
    "    result=np.hstack((result,\n",
    "                      zcr(data,frame_length,hop_length),\n",
    "                      rmse(data,frame_length,hop_length),\n",
    "                      mfcc(data,sr,frame_length,hop_length)\n",
    "                     ))\n",
    "    return result\n",
    "\n",
    "def add_noise(data,random=False,rate=0.035,threshold=0.075):\n",
    "    if random:\n",
    "        rate=np.random.random()*threshold\n",
    "    noise=rate*np.random.uniform()*np.amax(data)\n",
    "    augmented_data=data+noise*np.random.normal(size=data.shape[0])\n",
    "    return augmented_data    \n",
    "\n",
    "def get_features(path,duration=2.5, offset=0.6):\n",
    "    data,sr=librosa.load(path,duration=duration,offset=offset)\n",
    "    aud=extract_features(data,sr)\n",
    "    audio=np.array(aud)\n",
    "\n",
    "\n",
    "    return audio"
   ]
  },
  {
   "cell_type": "code",
   "execution_count": 5,
   "metadata": {},
   "outputs": [
    {
     "name": "stdout",
     "output_type": "stream",
     "text": [
      "\u001b[1m1/1\u001b[0m \u001b[32m━━━━━━━━━━━━━━━━━━━━\u001b[0m\u001b[37m\u001b[0m \u001b[1m1s\u001b[0m 516ms/step\n",
      "[[0. 0. 0. 0. 0. 1. 0.]]\n",
      "5\n"
     ]
    },
    {
     "data": {
      "text/plain": [
       "'sad'"
      ]
     },
     "execution_count": 5,
     "metadata": {},
     "output_type": "execute_result"
    }
   ],
   "source": [
    "a_test=\"D:/venti.wav\"\n",
    "\n",
    "def testing(a_test):\n",
    "    features=get_features(a_test)\n",
    "    X_train=np.expand_dims(features,axis=0)\n",
    "    y_pred=model_new.predict(X_train)\n",
    "    print(y_pred)\n",
    "    max_index = np.argmax(y_pred)\n",
    "    print(max_index)\n",
    "    emotions = ['angry', 'disgust', 'fear', 'happy', 'neutral', 'sad', 'surprise']\n",
    "    emotions_array = np.array(emotions)\n",
    "    return emotions_array[max_index]\n",
    "\n",
    "result=testing(a_test)\n",
    "result"
   ]
  }
 ],
 "metadata": {
  "kernelspec": {
   "display_name": "Python 3",
   "language": "python",
   "name": "python3"
  },
  "language_info": {
   "codemirror_mode": {
    "name": "ipython",
    "version": 3
   },
   "file_extension": ".py",
   "mimetype": "text/x-python",
   "name": "python",
   "nbconvert_exporter": "python",
   "pygments_lexer": "ipython3",
   "version": "3.11.5"
  }
 },
 "nbformat": 4,
 "nbformat_minor": 2
}
